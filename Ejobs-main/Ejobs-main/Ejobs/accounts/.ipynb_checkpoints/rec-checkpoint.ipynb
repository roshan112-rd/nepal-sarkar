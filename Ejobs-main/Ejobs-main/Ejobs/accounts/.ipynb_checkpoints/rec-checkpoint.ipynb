{
 "cells": [
  {
   "cell_type": "code",
   "execution_count": 1,
   "metadata": {
    "id": "2LLHgwudS8pq"
   },
   "outputs": [],
   "source": [
    "import pandas as pd\n",
    "import numpy as np\n",
    "from sklearn.feature_extraction.text import TfidfVectorizer\n",
    "from sklearn.metrics.pairwise import cosine_similarity\n",
    "from sklearn.feature_extraction.text import CountVectorizer\n",
    "import sqlalchemy\n",
    "import sqlite3"
   ]
  },
  {
   "cell_type": "code",
   "execution_count": 2,
   "metadata": {
    "id": "zUPXFt8CS8p0"
   },
   "outputs": [],
   "source": [
    "# engine = sqlalchemy.create_engine('mysql+pymysql://root:@localhost:3306/Foodie')"
   ]
  },
  {
   "cell_type": "code",
   "execution_count": 3,
   "metadata": {
    "id": "XN_13DgoS8p1"
   },
   "outputs": [],
   "source": [
    "engine = sqlite3.connect('db.sqlite3')\n",
    "cur = engine.cursor()"
   ]
  },
  {
   "cell_type": "code",
   "execution_count": 4,
   "metadata": {
    "colab": {
     "base_uri": "https://localhost:8080/",
     "height": 425
    },
    "id": "iZrS2GBnTyFd",
    "outputId": "db6a719f-7192-43f3-f9a9-f591a0f94d00"
   },
   "outputs": [
    {
     "data": {
      "text/html": [
       "<div>\n",
       "<style scoped>\n",
       "    .dataframe tbody tr th:only-of-type {\n",
       "        vertical-align: middle;\n",
       "    }\n",
       "\n",
       "    .dataframe tbody tr th {\n",
       "        vertical-align: top;\n",
       "    }\n",
       "\n",
       "    .dataframe thead th {\n",
       "        text-align: right;\n",
       "    }\n",
       "</style>\n",
       "<table border=\"1\" class=\"dataframe\">\n",
       "  <thead>\n",
       "    <tr style=\"text-align: right;\">\n",
       "      <th></th>\n",
       "      <th>job_id</th>\n",
       "      <th>job_title</th>\n",
       "      <th>job_employer</th>\n",
       "      <th>job_position</th>\n",
       "      <th>job_category</th>\n",
       "      <th>job_description</th>\n",
       "      <th>job_phone</th>\n",
       "      <th>job_email</th>\n",
       "      <th>job_website</th>\n",
       "      <th>experience</th>\n",
       "      <th>salary</th>\n",
       "      <th>created</th>\n",
       "      <th>apply_until</th>\n",
       "      <th>user_id</th>\n",
       "      <th>job_location</th>\n",
       "      <th>no_of_vacancy</th>\n",
       "    </tr>\n",
       "  </thead>\n",
       "  <tbody>\n",
       "    <tr>\n",
       "      <th>0</th>\n",
       "      <td>1</td>\n",
       "      <td>Finance Manager</td>\n",
       "      <td>kfc</td>\n",
       "      <td>Manager</td>\n",
       "      <td>finance</td>\n",
       "      <td>Senior management, executive management, upper...</td>\n",
       "      <td>9860846037</td>\n",
       "      <td>kfc@gmail.com</td>\n",
       "      <td>https://www.kfc.com/</td>\n",
       "      <td>2 years</td>\n",
       "      <td>20000-90999</td>\n",
       "      <td>2021-03-27 03:36:35.626563</td>\n",
       "      <td>2020-12-21</td>\n",
       "      <td>3</td>\n",
       "      <td>kapan</td>\n",
       "      <td>20</td>\n",
       "    </tr>\n",
       "    <tr>\n",
       "      <th>1</th>\n",
       "      <td>2</td>\n",
       "      <td>Waiter Wanted</td>\n",
       "      <td>KFC</td>\n",
       "      <td>Waiter</td>\n",
       "      <td>management</td>\n",
       "      <td>Waiters or Waitresses are responsible for taki...</td>\n",
       "      <td>9854456258</td>\n",
       "      <td>kfc@gmail.com</td>\n",
       "      <td>https://www.kfc.com/</td>\n",
       "      <td>2 years</td>\n",
       "      <td>20000-80000</td>\n",
       "      <td>2021-03-31 09:29:16.167350</td>\n",
       "      <td>2022-10-15</td>\n",
       "      <td>3</td>\n",
       "      <td>chabhil</td>\n",
       "      <td>10</td>\n",
       "    </tr>\n",
       "    <tr>\n",
       "      <th>2</th>\n",
       "      <td>3</td>\n",
       "      <td>Teacher</td>\n",
       "      <td>Reliance International Academy</td>\n",
       "      <td>Subject Lead/HOD  (Mathematics, Physics)</td>\n",
       "      <td>others</td>\n",
       "      <td>Script writing for your specialized subject as...</td>\n",
       "      <td>014525458</td>\n",
       "      <td>reliance@gmail.com</td>\n",
       "      <td>https://www.daraz.com/</td>\n",
       "      <td>2 years</td>\n",
       "      <td>20000-80000</td>\n",
       "      <td>2021-04-05 01:35:34.131262</td>\n",
       "      <td>2022-10-15</td>\n",
       "      <td>3</td>\n",
       "      <td>kapan</td>\n",
       "      <td>3</td>\n",
       "    </tr>\n",
       "  </tbody>\n",
       "</table>\n",
       "</div>"
      ],
      "text/plain": [
       "   job_id        job_title                    job_employer  \\\n",
       "0       1  Finance Manager                             kfc   \n",
       "1       2    Waiter Wanted                             KFC   \n",
       "2       3          Teacher  Reliance International Academy   \n",
       "\n",
       "                               job_position job_category  \\\n",
       "0                                   Manager      finance   \n",
       "1                                    Waiter   management   \n",
       "2  Subject Lead/HOD  (Mathematics, Physics)       others   \n",
       "\n",
       "                                     job_description   job_phone  \\\n",
       "0  Senior management, executive management, upper...  9860846037   \n",
       "1  Waiters or Waitresses are responsible for taki...  9854456258   \n",
       "2  Script writing for your specialized subject as...   014525458   \n",
       "\n",
       "            job_email             job_website experience       salary  \\\n",
       "0       kfc@gmail.com    https://www.kfc.com/    2 years  20000-90999   \n",
       "1       kfc@gmail.com    https://www.kfc.com/    2 years  20000-80000   \n",
       "2  reliance@gmail.com  https://www.daraz.com/    2 years  20000-80000   \n",
       "\n",
       "                      created apply_until  user_id job_location no_of_vacancy  \n",
       "0  2021-03-27 03:36:35.626563  2020-12-21        3        kapan            20  \n",
       "1  2021-03-31 09:29:16.167350  2022-10-15        3      chabhil            10  \n",
       "2  2021-04-05 01:35:34.131262  2022-10-15        3        kapan             3  "
      ]
     },
     "execution_count": 4,
     "metadata": {},
     "output_type": "execute_result"
    }
   ],
   "source": [
    "Blogs =  pd.read_sql_query(\"SELECT * from jobs_job\", engine)\n",
    "Blogs.head(3)"
   ]
  },
  {
   "cell_type": "code",
   "execution_count": null,
   "metadata": {
    "colab": {
     "base_uri": "https://localhost:8080/",
     "height": 332
    },
    "id": "w2TYlo3kUl6W",
    "outputId": "886a3a54-a073-45bb-89dd-baa10833e4b4"
   },
   "outputs": [],
   "source": []
  },
  {
   "cell_type": "markdown",
   "metadata": {
    "id": "0GsIJA0BS9JE"
   },
   "source": []
  },
  {
   "cell_type": "code",
   "execution_count": 5,
   "metadata": {
    "colab": {
     "base_uri": "https://localhost:8080/",
     "height": 250
    },
    "id": "-R2RbNv9S8p3",
    "outputId": "6f63c67c-aa46-49b4-c77a-c97aa073c96e"
   },
   "outputs": [
    {
     "data": {
      "text/html": [
       "<div>\n",
       "<style scoped>\n",
       "    .dataframe tbody tr th:only-of-type {\n",
       "        vertical-align: middle;\n",
       "    }\n",
       "\n",
       "    .dataframe tbody tr th {\n",
       "        vertical-align: top;\n",
       "    }\n",
       "\n",
       "    .dataframe thead th {\n",
       "        text-align: right;\n",
       "    }\n",
       "</style>\n",
       "<table border=\"1\" class=\"dataframe\">\n",
       "  <thead>\n",
       "    <tr style=\"text-align: right;\">\n",
       "      <th></th>\n",
       "      <th>job_id</th>\n",
       "      <th>job_title</th>\n",
       "      <th>job_employer</th>\n",
       "      <th>job_position</th>\n",
       "      <th>job_category</th>\n",
       "      <th>job_description</th>\n",
       "      <th>job_phone</th>\n",
       "      <th>job_email</th>\n",
       "      <th>job_website</th>\n",
       "      <th>experience</th>\n",
       "      <th>salary</th>\n",
       "      <th>created</th>\n",
       "      <th>apply_until</th>\n",
       "      <th>user_id</th>\n",
       "      <th>job_location</th>\n",
       "      <th>no_of_vacancy</th>\n",
       "    </tr>\n",
       "  </thead>\n",
       "  <tbody>\n",
       "    <tr>\n",
       "      <th>0</th>\n",
       "      <td>1</td>\n",
       "      <td>Finance Manager</td>\n",
       "      <td>kfc</td>\n",
       "      <td>Manager</td>\n",
       "      <td>finance</td>\n",
       "      <td>Senior management, executive management, upper...</td>\n",
       "      <td>9860846037</td>\n",
       "      <td>kfc@gmail.com</td>\n",
       "      <td>https://www.kfc.com/</td>\n",
       "      <td>2 years</td>\n",
       "      <td>20000-90999</td>\n",
       "      <td>2021-03-27 03:36:35.626563</td>\n",
       "      <td>2020-12-21</td>\n",
       "      <td>3</td>\n",
       "      <td>kapan</td>\n",
       "      <td>20</td>\n",
       "    </tr>\n",
       "    <tr>\n",
       "      <th>1</th>\n",
       "      <td>2</td>\n",
       "      <td>Waiter Wanted</td>\n",
       "      <td>KFC</td>\n",
       "      <td>Waiter</td>\n",
       "      <td>management</td>\n",
       "      <td>Waiters or Waitresses are responsible for taki...</td>\n",
       "      <td>9854456258</td>\n",
       "      <td>kfc@gmail.com</td>\n",
       "      <td>https://www.kfc.com/</td>\n",
       "      <td>2 years</td>\n",
       "      <td>20000-80000</td>\n",
       "      <td>2021-03-31 09:29:16.167350</td>\n",
       "      <td>2022-10-15</td>\n",
       "      <td>3</td>\n",
       "      <td>chabhil</td>\n",
       "      <td>10</td>\n",
       "    </tr>\n",
       "  </tbody>\n",
       "</table>\n",
       "</div>"
      ],
      "text/plain": [
       "   job_id        job_title job_employer job_position job_category  \\\n",
       "0       1  Finance Manager          kfc      Manager      finance   \n",
       "1       2    Waiter Wanted          KFC       Waiter   management   \n",
       "\n",
       "                                     job_description   job_phone  \\\n",
       "0  Senior management, executive management, upper...  9860846037   \n",
       "1  Waiters or Waitresses are responsible for taki...  9854456258   \n",
       "\n",
       "       job_email           job_website experience       salary  \\\n",
       "0  kfc@gmail.com  https://www.kfc.com/    2 years  20000-90999   \n",
       "1  kfc@gmail.com  https://www.kfc.com/    2 years  20000-80000   \n",
       "\n",
       "                      created apply_until  user_id job_location no_of_vacancy  \n",
       "0  2021-03-27 03:36:35.626563  2020-12-21        3        kapan            20  \n",
       "1  2021-03-31 09:29:16.167350  2022-10-15        3      chabhil            10  "
      ]
     },
     "execution_count": 5,
     "metadata": {},
     "output_type": "execute_result"
    }
   ],
   "source": [
    "Blogs = pd.read_sql_query(\"SELECT * from jobs_job\", engine)\n",
    "Blogs.rename(columns={\n",
    "    'job_id': 'job_id',\n",
    "    'id': 'user_id',\n",
    "}, inplace=True)\n",
    "Blogs.head(2)"
   ]
  },
  {
   "cell_type": "code",
   "execution_count": 6,
   "metadata": {
    "colab": {
     "base_uri": "https://localhost:8080/",
     "height": 193
    },
    "id": "n0A4CZsjUCcK",
    "outputId": "fa8655ed-62f9-44b6-e2f3-59e533bdd6af"
   },
   "outputs": [
    {
     "data": {
      "text/html": [
       "<div>\n",
       "<style scoped>\n",
       "    .dataframe tbody tr th:only-of-type {\n",
       "        vertical-align: middle;\n",
       "    }\n",
       "\n",
       "    .dataframe tbody tr th {\n",
       "        vertical-align: top;\n",
       "    }\n",
       "\n",
       "    .dataframe thead th {\n",
       "        text-align: right;\n",
       "    }\n",
       "</style>\n",
       "<table border=\"1\" class=\"dataframe\">\n",
       "  <thead>\n",
       "    <tr style=\"text-align: right;\">\n",
       "      <th></th>\n",
       "      <th>id</th>\n",
       "      <th>password</th>\n",
       "      <th>last_login</th>\n",
       "      <th>is_superuser</th>\n",
       "      <th>username</th>\n",
       "      <th>last_name</th>\n",
       "      <th>email</th>\n",
       "      <th>is_staff</th>\n",
       "      <th>is_active</th>\n",
       "      <th>date_joined</th>\n",
       "      <th>first_name</th>\n",
       "    </tr>\n",
       "  </thead>\n",
       "  <tbody>\n",
       "    <tr>\n",
       "      <th>0</th>\n",
       "      <td>1</td>\n",
       "      <td>pbkdf2_sha256$260000$URqYdQpykNjdXFBdvxCDH7$Sc...</td>\n",
       "      <td>2021-05-04 13:43:28.284790</td>\n",
       "      <td>1</td>\n",
       "      <td>roshan</td>\n",
       "      <td></td>\n",
       "      <td></td>\n",
       "      <td>1</td>\n",
       "      <td>1</td>\n",
       "      <td>2021-03-27 03:11:34.570071</td>\n",
       "      <td></td>\n",
       "    </tr>\n",
       "    <tr>\n",
       "      <th>1</th>\n",
       "      <td>2</td>\n",
       "      <td>pbkdf2_sha256$260000$qbmHz1nTzLN0gJcSnJ90Bv$34...</td>\n",
       "      <td>2021-05-04 14:09:58.284516</td>\n",
       "      <td>0</td>\n",
       "      <td>roshandahal</td>\n",
       "      <td>dahal</td>\n",
       "      <td>roshandahal.r@gmail.com</td>\n",
       "      <td>0</td>\n",
       "      <td>1</td>\n",
       "      <td>2021-03-27 03:12:59.851181</td>\n",
       "      <td>roshan</td>\n",
       "    </tr>\n",
       "    <tr>\n",
       "      <th>2</th>\n",
       "      <td>3</td>\n",
       "      <td>pbkdf2_sha256$260000$lNlPZok9IQC7FcyiYOElfj$U3...</td>\n",
       "      <td>2021-05-04 14:03:41.515525</td>\n",
       "      <td>0</td>\n",
       "      <td>astik</td>\n",
       "      <td>dahal</td>\n",
       "      <td>astikdahal.r@gmail.com</td>\n",
       "      <td>1</td>\n",
       "      <td>1</td>\n",
       "      <td>2021-03-27 03:35:20</td>\n",
       "      <td>astik</td>\n",
       "    </tr>\n",
       "  </tbody>\n",
       "</table>\n",
       "</div>"
      ],
      "text/plain": [
       "   id                                           password  \\\n",
       "0   1  pbkdf2_sha256$260000$URqYdQpykNjdXFBdvxCDH7$Sc...   \n",
       "1   2  pbkdf2_sha256$260000$qbmHz1nTzLN0gJcSnJ90Bv$34...   \n",
       "2   3  pbkdf2_sha256$260000$lNlPZok9IQC7FcyiYOElfj$U3...   \n",
       "\n",
       "                   last_login  is_superuser     username last_name  \\\n",
       "0  2021-05-04 13:43:28.284790             1       roshan             \n",
       "1  2021-05-04 14:09:58.284516             0  roshandahal     dahal   \n",
       "2  2021-05-04 14:03:41.515525             0        astik     dahal   \n",
       "\n",
       "                     email  is_staff  is_active                 date_joined  \\\n",
       "0                                  1          1  2021-03-27 03:11:34.570071   \n",
       "1  roshandahal.r@gmail.com         0          1  2021-03-27 03:12:59.851181   \n",
       "2   astikdahal.r@gmail.com         1          1         2021-03-27 03:35:20   \n",
       "\n",
       "  first_name  \n",
       "0             \n",
       "1     roshan  \n",
       "2      astik  "
      ]
     },
     "execution_count": 6,
     "metadata": {},
     "output_type": "execute_result"
    }
   ],
   "source": [
    "User = pd.read_sql_query(\"SELECT * from auth_user\", engine)\n",
    "User.head(3)"
   ]
  },
  {
   "cell_type": "code",
   "execution_count": 7,
   "metadata": {
    "colab": {
     "base_uri": "https://localhost:8080/",
     "height": 145
    },
    "id": "M96ceOlwS8p3",
    "outputId": "a7125391-ee6b-4fc3-cda8-6bfc89ef1d45"
   },
   "outputs": [
    {
     "data": {
      "text/html": [
       "<div>\n",
       "<style scoped>\n",
       "    .dataframe tbody tr th:only-of-type {\n",
       "        vertical-align: middle;\n",
       "    }\n",
       "\n",
       "    .dataframe tbody tr th {\n",
       "        vertical-align: top;\n",
       "    }\n",
       "\n",
       "    .dataframe thead th {\n",
       "        text-align: right;\n",
       "    }\n",
       "</style>\n",
       "<table border=\"1\" class=\"dataframe\">\n",
       "  <thead>\n",
       "    <tr style=\"text-align: right;\">\n",
       "      <th></th>\n",
       "      <th>id</th>\n",
       "      <th>password</th>\n",
       "      <th>last_login</th>\n",
       "      <th>is_superuser</th>\n",
       "      <th>username</th>\n",
       "      <th>last_name</th>\n",
       "      <th>email</th>\n",
       "      <th>is_staff</th>\n",
       "      <th>is_active</th>\n",
       "      <th>date_joined</th>\n",
       "      <th>first_name</th>\n",
       "    </tr>\n",
       "  </thead>\n",
       "  <tbody>\n",
       "    <tr>\n",
       "      <th>0</th>\n",
       "      <td>1</td>\n",
       "      <td>pbkdf2_sha256$260000$URqYdQpykNjdXFBdvxCDH7$Sc...</td>\n",
       "      <td>2021-05-04 13:43:28.284790</td>\n",
       "      <td>1</td>\n",
       "      <td>roshan</td>\n",
       "      <td></td>\n",
       "      <td></td>\n",
       "      <td>1</td>\n",
       "      <td>1</td>\n",
       "      <td>2021-03-27 03:11:34.570071</td>\n",
       "      <td></td>\n",
       "    </tr>\n",
       "    <tr>\n",
       "      <th>1</th>\n",
       "      <td>2</td>\n",
       "      <td>pbkdf2_sha256$260000$qbmHz1nTzLN0gJcSnJ90Bv$34...</td>\n",
       "      <td>2021-05-04 14:09:58.284516</td>\n",
       "      <td>0</td>\n",
       "      <td>roshandahal</td>\n",
       "      <td>dahal</td>\n",
       "      <td>roshandahal.r@gmail.com</td>\n",
       "      <td>0</td>\n",
       "      <td>1</td>\n",
       "      <td>2021-03-27 03:12:59.851181</td>\n",
       "      <td>roshan</td>\n",
       "    </tr>\n",
       "  </tbody>\n",
       "</table>\n",
       "</div>"
      ],
      "text/plain": [
       "   id                                           password  \\\n",
       "0   1  pbkdf2_sha256$260000$URqYdQpykNjdXFBdvxCDH7$Sc...   \n",
       "1   2  pbkdf2_sha256$260000$qbmHz1nTzLN0gJcSnJ90Bv$34...   \n",
       "\n",
       "                   last_login  is_superuser     username last_name  \\\n",
       "0  2021-05-04 13:43:28.284790             1       roshan             \n",
       "1  2021-05-04 14:09:58.284516             0  roshandahal     dahal   \n",
       "\n",
       "                     email  is_staff  is_active                 date_joined  \\\n",
       "0                                  1          1  2021-03-27 03:11:34.570071   \n",
       "1  roshandahal.r@gmail.com         0          1  2021-03-27 03:12:59.851181   \n",
       "\n",
       "  first_name  \n",
       "0             \n",
       "1     roshan  "
      ]
     },
     "execution_count": 7,
     "metadata": {},
     "output_type": "execute_result"
    }
   ],
   "source": [
    "User = pd.read_sql_query(\"SELECT * from auth_user\", engine)\n",
    "User.rename(columns={\n",
    "    'id': 'id'\n",
    "}, inplace=True)\n",
    "User.head(2)"
   ]
  },
  {
   "cell_type": "code",
   "execution_count": 8,
   "metadata": {
    "id": "qYgZRLfJS8p4"
   },
   "outputs": [],
   "source": [
    "# Blogs = pd.read_sql_table('Jobs',engine)\n",
    "# Blogs.rename(columns={\n",
    "#     'id': 'blog_id',\n",
    "#     'Author_id': 'user_id',\n",
    "# }, inplace=True)\n",
    "# Blogs.head(5)"
   ]
  },
  {
   "cell_type": "code",
   "execution_count": 9,
   "metadata": {
    "id": "kL3U54NBS8p4"
   },
   "outputs": [],
   "source": [
    "# Reviews = pd.read_sql_table('foodie_review',engine)\n",
    "# Reviews.rename(columns={\n",
    "#     'id': 'review_id'\n",
    "# }, inplace=True)\n",
    "# Reviews.head(5)"
   ]
  },
  {
   "cell_type": "code",
   "execution_count": 10,
   "metadata": {
    "id": "QeFFlpBnS8p5"
   },
   "outputs": [],
   "source": [
    "# User = pd.read_sql_table('auth_user',engine, columns=['id', 'username'])\n",
    "# User.rename(columns={\n",
    "#     'id': 'user_id'\n",
    "# }, inplace=True)\n",
    "# User.head(5)"
   ]
  },
  {
   "cell_type": "code",
   "execution_count": 23,
   "metadata": {
    "colab": {
     "base_uri": "https://localhost:8080/",
     "height": 332
    },
    "id": "2h96jOurU_qV",
    "outputId": "0e625c62-8900-42f5-ea79-925604993a9f"
   },
   "outputs": [
    {
     "data": {
      "text/html": [
       "<div>\n",
       "<style scoped>\n",
       "    .dataframe tbody tr th:only-of-type {\n",
       "        vertical-align: middle;\n",
       "    }\n",
       "\n",
       "    .dataframe tbody tr th {\n",
       "        vertical-align: top;\n",
       "    }\n",
       "\n",
       "    .dataframe thead th {\n",
       "        text-align: right;\n",
       "    }\n",
       "</style>\n",
       "<table border=\"1\" class=\"dataframe\">\n",
       "  <thead>\n",
       "    <tr style=\"text-align: right;\">\n",
       "      <th></th>\n",
       "      <th>job_id</th>\n",
       "      <th>job_title</th>\n",
       "      <th>job_employer</th>\n",
       "      <th>job_position</th>\n",
       "      <th>job_category</th>\n",
       "      <th>job_description</th>\n",
       "      <th>job_phone</th>\n",
       "      <th>job_email</th>\n",
       "      <th>job_website</th>\n",
       "      <th>experience</th>\n",
       "      <th>...</th>\n",
       "      <th>password</th>\n",
       "      <th>last_login</th>\n",
       "      <th>is_superuser</th>\n",
       "      <th>username</th>\n",
       "      <th>last_name</th>\n",
       "      <th>email</th>\n",
       "      <th>is_staff</th>\n",
       "      <th>is_active</th>\n",
       "      <th>date_joined</th>\n",
       "      <th>first_name</th>\n",
       "    </tr>\n",
       "  </thead>\n",
       "  <tbody>\n",
       "    <tr>\n",
       "      <th>0</th>\n",
       "      <td>1</td>\n",
       "      <td>Finance Manager</td>\n",
       "      <td>kfc</td>\n",
       "      <td>Manager</td>\n",
       "      <td>finance</td>\n",
       "      <td>Senior management, executive management, upper...</td>\n",
       "      <td>9860846037</td>\n",
       "      <td>kfc@gmail.com</td>\n",
       "      <td>https://www.kfc.com/</td>\n",
       "      <td>2 years</td>\n",
       "      <td>...</td>\n",
       "      <td>pbkdf2_sha256$260000$lNlPZok9IQC7FcyiYOElfj$U3...</td>\n",
       "      <td>2021-05-04 14:03:41.515525</td>\n",
       "      <td>0</td>\n",
       "      <td>astik</td>\n",
       "      <td>dahal</td>\n",
       "      <td>astikdahal.r@gmail.com</td>\n",
       "      <td>1</td>\n",
       "      <td>1</td>\n",
       "      <td>2021-03-27 03:35:20</td>\n",
       "      <td>astik</td>\n",
       "    </tr>\n",
       "    <tr>\n",
       "      <th>1</th>\n",
       "      <td>2</td>\n",
       "      <td>Waiter Wanted</td>\n",
       "      <td>KFC</td>\n",
       "      <td>Waiter</td>\n",
       "      <td>management</td>\n",
       "      <td>Waiters or Waitresses are responsible for taki...</td>\n",
       "      <td>9854456258</td>\n",
       "      <td>kfc@gmail.com</td>\n",
       "      <td>https://www.kfc.com/</td>\n",
       "      <td>2 years</td>\n",
       "      <td>...</td>\n",
       "      <td>pbkdf2_sha256$260000$lNlPZok9IQC7FcyiYOElfj$U3...</td>\n",
       "      <td>2021-05-04 14:03:41.515525</td>\n",
       "      <td>0</td>\n",
       "      <td>astik</td>\n",
       "      <td>dahal</td>\n",
       "      <td>astikdahal.r@gmail.com</td>\n",
       "      <td>1</td>\n",
       "      <td>1</td>\n",
       "      <td>2021-03-27 03:35:20</td>\n",
       "      <td>astik</td>\n",
       "    </tr>\n",
       "    <tr>\n",
       "      <th>2</th>\n",
       "      <td>3</td>\n",
       "      <td>Teacher</td>\n",
       "      <td>Reliance International Academy</td>\n",
       "      <td>Subject Lead/HOD  (Mathematics, Physics)</td>\n",
       "      <td>others</td>\n",
       "      <td>Script writing for your specialized subject as...</td>\n",
       "      <td>014525458</td>\n",
       "      <td>reliance@gmail.com</td>\n",
       "      <td>https://www.daraz.com/</td>\n",
       "      <td>2 years</td>\n",
       "      <td>...</td>\n",
       "      <td>pbkdf2_sha256$260000$lNlPZok9IQC7FcyiYOElfj$U3...</td>\n",
       "      <td>2021-05-04 14:03:41.515525</td>\n",
       "      <td>0</td>\n",
       "      <td>astik</td>\n",
       "      <td>dahal</td>\n",
       "      <td>astikdahal.r@gmail.com</td>\n",
       "      <td>1</td>\n",
       "      <td>1</td>\n",
       "      <td>2021-03-27 03:35:20</td>\n",
       "      <td>astik</td>\n",
       "    </tr>\n",
       "  </tbody>\n",
       "</table>\n",
       "<p>3 rows × 27 columns</p>\n",
       "</div>"
      ],
      "text/plain": [
       "   job_id        job_title                    job_employer  \\\n",
       "0       1  Finance Manager                             kfc   \n",
       "1       2    Waiter Wanted                             KFC   \n",
       "2       3          Teacher  Reliance International Academy   \n",
       "\n",
       "                               job_position job_category  \\\n",
       "0                                   Manager      finance   \n",
       "1                                    Waiter   management   \n",
       "2  Subject Lead/HOD  (Mathematics, Physics)       others   \n",
       "\n",
       "                                     job_description   job_phone  \\\n",
       "0  Senior management, executive management, upper...  9860846037   \n",
       "1  Waiters or Waitresses are responsible for taki...  9854456258   \n",
       "2  Script writing for your specialized subject as...   014525458   \n",
       "\n",
       "            job_email             job_website experience  ...  \\\n",
       "0       kfc@gmail.com    https://www.kfc.com/    2 years  ...   \n",
       "1       kfc@gmail.com    https://www.kfc.com/    2 years  ...   \n",
       "2  reliance@gmail.com  https://www.daraz.com/    2 years  ...   \n",
       "\n",
       "                                            password  \\\n",
       "0  pbkdf2_sha256$260000$lNlPZok9IQC7FcyiYOElfj$U3...   \n",
       "1  pbkdf2_sha256$260000$lNlPZok9IQC7FcyiYOElfj$U3...   \n",
       "2  pbkdf2_sha256$260000$lNlPZok9IQC7FcyiYOElfj$U3...   \n",
       "\n",
       "                   last_login is_superuser  username last_name  \\\n",
       "0  2021-05-04 14:03:41.515525            0     astik     dahal   \n",
       "1  2021-05-04 14:03:41.515525            0     astik     dahal   \n",
       "2  2021-05-04 14:03:41.515525            0     astik     dahal   \n",
       "\n",
       "                    email  is_staff is_active          date_joined  first_name  \n",
       "0  astikdahal.r@gmail.com         1         1  2021-03-27 03:35:20       astik  \n",
       "1  astikdahal.r@gmail.com         1         1  2021-03-27 03:35:20       astik  \n",
       "2  astikdahal.r@gmail.com         1         1  2021-03-27 03:35:20       astik  \n",
       "\n",
       "[3 rows x 27 columns]"
      ]
     },
     "execution_count": 23,
     "metadata": {},
     "output_type": "execute_result"
    }
   ],
   "source": [
    "Joined_Table = pd.read_sql_query(\"SELECT * from jobs_job AS A INNER JOIN auth_user AS B ON A.user_id = B.id\", engine)\n",
    "Joined_Table.head(3)"
   ]
  },
  {
   "cell_type": "code",
   "execution_count": 12,
   "metadata": {
    "id": "IYM5XQSsS8p5"
   },
   "outputs": [],
   "source": [
    "Data = Joined_Table"
   ]
  },
  {
   "cell_type": "code",
   "execution_count": 13,
   "metadata": {
    "id": "SFmITwg2S8p6"
   },
   "outputs": [],
   "source": [
    "from sklearn.model_selection import train_test_split\n",
    "Xtrain, Xtest = train_test_split(Data, test_size=0.2, random_state=1)"
   ]
  },
  {
   "cell_type": "code",
   "execution_count": 14,
   "metadata": {
    "colab": {
     "base_uri": "https://localhost:8080/"
    },
    "id": "_-FidS51S8p6",
    "outputId": "03f813aa-744a-4218-bc1b-a72df6e99e81"
   },
   "outputs": [
    {
     "name": "stdout",
     "output_type": "stream",
     "text": [
      "Shape of train data: (4, 27)\n",
      "Shape of test data: (2, 27)\n",
      "Index(['job_id', 'job_title', 'job_employer', 'job_position', 'job_category',\n",
      "       'job_description', 'job_phone', 'job_email', 'job_website',\n",
      "       'experience', 'salary', 'created', 'apply_until', 'user_id',\n",
      "       'job_location', 'no_of_vacancy', 'id', 'password', 'last_login',\n",
      "       'is_superuser', 'username', 'last_name', 'email', 'is_staff',\n",
      "       'is_active', 'date_joined', 'first_name'],\n",
      "      dtype='object')\n"
     ]
    }
   ],
   "source": [
    "print(f\"Shape of train data: {Xtrain.shape}\")\n",
    "print(f\"Shape of test data: {Xtest.shape}\")\n",
    "\n",
    "print(Xtest.columns)"
   ]
  },
  {
   "cell_type": "code",
   "execution_count": 15,
   "metadata": {
    "id": "TcKU1Kv2S8p6"
   },
   "outputs": [],
   "source": [
    "from sklearn.metrics.pairwise import cosine_similarity"
   ]
  },
  {
   "cell_type": "code",
   "execution_count": 16,
   "metadata": {
    "id": "zBe1L8SvS8p7"
   },
   "outputs": [],
   "source": [
    "tfidfvec = TfidfVectorizer()\n",
    "tfidf_recipe_id = tfidfvec.fit_transform(Xtrain['job_category'])\n",
    "cosine_sim = cosine_similarity(tfidf_recipe_id)"
   ]
  },
  {
   "cell_type": "code",
   "execution_count": 17,
   "metadata": {
    "colab": {
     "base_uri": "https://localhost:8080/"
    },
    "id": "c6nHDPk4S8p7",
    "outputId": "83c22bac-d41d-4ed6-ac8b-6f0b4f9c0757"
   },
   "outputs": [
    {
     "data": {
      "text/plain": [
       "TfidfVectorizer()"
      ]
     },
     "execution_count": 17,
     "metadata": {},
     "output_type": "execute_result"
    }
   ],
   "source": [
    "tfidfvec"
   ]
  },
  {
   "cell_type": "code",
   "execution_count": 18,
   "metadata": {
    "id": "pNjiO9zOWvL8"
   },
   "outputs": [],
   "source": [
    "job_id = Xtrain[Xtrain.job_category == \"finance\"].index"
   ]
  },
  {
   "cell_type": "code",
   "execution_count": 19,
   "metadata": {
    "colab": {
     "base_uri": "https://localhost:8080/"
    },
    "id": "ig1SAxioXxPI",
    "outputId": "d32393a1-1e5e-4af1-a098-864404ba6ec2"
   },
   "outputs": [
    {
     "data": {
      "text/plain": [
       "[0]"
      ]
     },
     "execution_count": 19,
     "metadata": {},
     "output_type": "execute_result"
    }
   ],
   "source": [
    "list(Xtrain[Xtrain.job_category == \"finance\"].index)"
   ]
  },
  {
   "cell_type": "code",
   "execution_count": 27,
   "metadata": {
    "id": "ejb1GKsoS8p7"
   },
   "outputs": [],
   "source": [
    "def Recommendations(title):\n",
    "    index = list(Xtrain[Xtrain.job_category == title].index)\n",
    "    print(index)\n",
    "    scores = list(enumerate(cosine_sim[index]))\n",
    "    similarity_scores = sorted(scores, key=lambda x: x[1], reverse=True)\n",
    "    similarity_scores = similarity_scores[:1]\n",
    "    food = [i[0] for i in similarity_scores]\n",
    "    return Xtrain['job_title'].iloc[food]"
   ]
  },
  {
   "cell_type": "code",
   "execution_count": 26,
   "metadata": {
    "colab": {
     "base_uri": "https://localhost:8080/"
    },
    "id": "IJ4ZkEU4S8p8",
    "outputId": "1c16e413-bba2-4b75-c240-b7a61055e7e7"
   },
   "outputs": [
    {
     "name": "stdout",
     "output_type": "stream",
     "text": [
      "[4, 5]\n"
     ]
    },
    {
     "ename": "IndexError",
     "evalue": "index 4 is out of bounds for axis 0 with size 4",
     "output_type": "error",
     "traceback": [
      "\u001b[1;31m---------------------------------------------------------------------------\u001b[0m",
      "\u001b[1;31mIndexError\u001b[0m                                Traceback (most recent call last)",
      "\u001b[1;32m<ipython-input-26-a9b5356223b9>\u001b[0m in \u001b[0;36m<module>\u001b[1;34m\u001b[0m\n\u001b[1;32m----> 1\u001b[1;33m \u001b[0mRecommendations\u001b[0m\u001b[1;33m(\u001b[0m\u001b[1;34m\"webdesign\"\u001b[0m\u001b[1;33m)\u001b[0m\u001b[1;33m\u001b[0m\u001b[1;33m\u001b[0m\u001b[0m\n\u001b[0m",
      "\u001b[1;32m<ipython-input-25-56819de3ba1f>\u001b[0m in \u001b[0;36mRecommendations\u001b[1;34m(title)\u001b[0m\n\u001b[0;32m      2\u001b[0m     \u001b[0mindex\u001b[0m \u001b[1;33m=\u001b[0m \u001b[0mlist\u001b[0m\u001b[1;33m(\u001b[0m\u001b[0mXtrain\u001b[0m\u001b[1;33m[\u001b[0m\u001b[0mXtrain\u001b[0m\u001b[1;33m.\u001b[0m\u001b[0mjob_category\u001b[0m \u001b[1;33m==\u001b[0m \u001b[0mtitle\u001b[0m\u001b[1;33m]\u001b[0m\u001b[1;33m.\u001b[0m\u001b[0mindex\u001b[0m\u001b[1;33m)\u001b[0m\u001b[1;33m\u001b[0m\u001b[1;33m\u001b[0m\u001b[0m\n\u001b[0;32m      3\u001b[0m     \u001b[0mprint\u001b[0m\u001b[1;33m(\u001b[0m\u001b[0mindex\u001b[0m\u001b[1;33m)\u001b[0m\u001b[1;33m\u001b[0m\u001b[1;33m\u001b[0m\u001b[0m\n\u001b[1;32m----> 4\u001b[1;33m     \u001b[0mscores\u001b[0m \u001b[1;33m=\u001b[0m \u001b[0mlist\u001b[0m\u001b[1;33m(\u001b[0m\u001b[0menumerate\u001b[0m\u001b[1;33m(\u001b[0m\u001b[0mcosine_sim\u001b[0m\u001b[1;33m[\u001b[0m\u001b[0mindex\u001b[0m\u001b[1;33m]\u001b[0m\u001b[1;33m)\u001b[0m\u001b[1;33m)\u001b[0m\u001b[1;33m\u001b[0m\u001b[1;33m\u001b[0m\u001b[0m\n\u001b[0m\u001b[0;32m      5\u001b[0m     \u001b[0msimilarity_scores\u001b[0m \u001b[1;33m=\u001b[0m \u001b[0msorted\u001b[0m\u001b[1;33m(\u001b[0m\u001b[0mscores\u001b[0m\u001b[1;33m,\u001b[0m \u001b[0mkey\u001b[0m\u001b[1;33m=\u001b[0m\u001b[1;32mlambda\u001b[0m \u001b[0mx\u001b[0m\u001b[1;33m:\u001b[0m \u001b[0mx\u001b[0m\u001b[1;33m[\u001b[0m\u001b[1;36m1\u001b[0m\u001b[1;33m]\u001b[0m\u001b[1;33m,\u001b[0m \u001b[0mreverse\u001b[0m\u001b[1;33m=\u001b[0m\u001b[1;32mTrue\u001b[0m\u001b[1;33m)\u001b[0m\u001b[1;33m\u001b[0m\u001b[1;33m\u001b[0m\u001b[0m\n\u001b[0;32m      6\u001b[0m     \u001b[0msimilarity_scores\u001b[0m \u001b[1;33m=\u001b[0m \u001b[0msimilarity_scores\u001b[0m\u001b[1;33m[\u001b[0m\u001b[1;33m:\u001b[0m\u001b[1;36m1\u001b[0m\u001b[1;33m]\u001b[0m\u001b[1;33m\u001b[0m\u001b[1;33m\u001b[0m\u001b[0m\n",
      "\u001b[1;31mIndexError\u001b[0m: index 4 is out of bounds for axis 0 with size 4"
     ]
    }
   ],
   "source": [
    "Recommendations(\"webdesign\")"
   ]
  },
  {
   "cell_type": "code",
   "execution_count": null,
   "metadata": {
    "id": "lgYrAWbBWH8j"
   },
   "outputs": [],
   "source": []
  },
  {
   "cell_type": "code",
   "execution_count": null,
   "metadata": {},
   "outputs": [],
   "source": []
  },
  {
   "cell_type": "code",
   "execution_count": null,
   "metadata": {},
   "outputs": [],
   "source": []
  }
 ],
 "metadata": {
  "colab": {
   "name": "Train.ipynb",
   "provenance": []
  },
  "kernelspec": {
   "display_name": "Python 3",
   "language": "python",
   "name": "python3"
  },
  "language_info": {
   "codemirror_mode": {
    "name": "ipython",
    "version": 3
   },
   "file_extension": ".py",
   "mimetype": "text/x-python",
   "name": "python",
   "nbconvert_exporter": "python",
   "pygments_lexer": "ipython3",
   "version": "3.8.5"
  }
 },
 "nbformat": 4,
 "nbformat_minor": 5
}
